{
 "cells": [
  {
   "cell_type": "code",
   "execution_count": 2,
   "metadata": {},
   "outputs": [],
   "source": [
    "# add h4d proj root to sys.path so we can import stuff that's in h4d_main/h4d:\n",
    "# Example: suppose you want to import something from <h4d_main>/h4d/h4d/submodule/:\n",
    "# \"import h4d.submodule\" or \"from h4d.submodule import foo\"\n",
    "import sys, subprocess\n",
    "sys.path.append(subprocess.check_output(['git','rev-parse','--show-toplevel']).strip().decode(\"utf-8\") )"
   ]
  },
  {
   "cell_type": "code",
   "execution_count": 3,
   "metadata": {},
   "outputs": [],
   "source": [
    "%matplotlib inline\n",
    "%load_ext autoreload\n",
    "%autoreload 2\n",
    "from collections import Counter\n",
    "import numpy as np\n",
    "import skimage.io as io\n",
    "import matplotlib.pyplot as plt\n",
    "import os.path\n",
    "import pylab\n",
    "pylab.rcParams['figure.figsize'] = (8.0, 10.0)\n",
    "\n",
    "import io\n",
    "import json\n",
    "import os\n",
    "from tqdm import tqdm\n",
    "from PIL import Image\n",
    "import xview_to_coco.wv_util as wv"
   ]
  },
  {
   "cell_type": "code",
   "execution_count": 4,
   "metadata": {},
   "outputs": [],
   "source": [
    "\n",
    "def generate_categories():\n",
    "\n",
    "    class_dict = {\n",
    "    \"Fixed-wing Aircraft\": \"Fixed-wing Aircraft\",\n",
    "    \"Small Aircraft\": \"Fixed-wing Aircraft\",\n",
    "    \"Cargo Plane\": \"Fixed-wing Aircraft\",\n",
    "    \"Helicopter\": \"None\",\n",
    "    \"Passenger Vehicle\": \"Passenger Vehicle\",\n",
    "    \"Small Car\": \"Passenger Vehicle\",\n",
    "    \"Bus\": \"Passenger Vehicle\",\n",
    "    \"Pickup Truck\": \"Truck\",\n",
    "    \"Utility Truck\": \"Truck\",\n",
    "    \"Truck\": \"Truck\",\n",
    "    \"Cargo Truck\": \"Truck\",\n",
    "    \"Truck w/Box\": \"Truck\",\n",
    "    \"Truck Tractor\": \"Truck\",\n",
    "    \"Trailer\": \"Truck\",\n",
    "    \"Truck w/Flatbed\": \"Truck\",\n",
    "    \"Truck w/Liquid\": \"Truck\",\n",
    "    \"Crane Truck\": \"Engineering Vehicle\",\n",
    "    \"Railway Vehicle\": \"Railway Vehicle\",\n",
    "    \"Passenger Car\": \"Railway Vehicle\",\n",
    "    \"Cargo Car\": \"Railway Vehicle\",\n",
    "    \"Flat Car\": \"Railway Vehicle\",\n",
    "    \"Tank car\": \"Railway Vehicle\",\n",
    "    \"Locomotive\": \"Railway Vehicle\",\n",
    "    \"Maritime Vessel\": \"Maritime Vessel\",\n",
    "    \"Motorboat\": \"Maritime Vessel\",\n",
    "    \"Sailboat\": \"Maritime Vessel\",\n",
    "    \"Tugboat\": \"Maritime Vessel\",\n",
    "    \"Barge\": \"Maritime Vessel\",\n",
    "    \"Fishing Vessel\": \"Maritime Vessel\",\n",
    "    \"Ferry\": \"Maritime Vessel\",\n",
    "    \"Yacht\": \"Maritime Vessel\",\n",
    "    \"Container Ship\": \"Maritime Vessel\",\n",
    "    \"Oil Tanker\": \"Maritime Vessel\",\n",
    "    \"Engineering Vehicle\": \"Engineering Vehicle\",\n",
    "    \"Tower crane\": \"Engineering Vehicle\",\n",
    "    \"Container Crane\": \"Engineering Vehicle\",\n",
    "    \"Reach Stacker\": \"Engineering Vehicle\",\n",
    "    \"Straddle Carrier\": \"Engineering Vehicle\",\n",
    "    \"Mobile Crane\": \"Engineering Vehicle\",\n",
    "    \"Dump Truck\": \"Engineering Vehicle\",\n",
    "    \"Haul Truck\": \"Engineering Vehicle\",\n",
    "    \"Scraper/Tractor\": \"Engineering Vehicle\",\n",
    "    \"Front loader/Bulldozer\": \"Engineering Vehicle\",\n",
    "    \"Excavator\": \"Engineering Vehicle\",\n",
    "    \"Cement Mixer\": \"Engineering Vehicle\",\n",
    "    \"Ground Grader\": \"Engineering Vehicle\",\n",
    "    \"Hut/Tent\": \"Building\",\n",
    "    \"Shed\": \"Building\",\n",
    "    \"Building\": \"Building\",\n",
    "    \"Aircraft Hangar\": \"Building\",\n",
    "    \"Damaged Building\": \"Building\",\n",
    "    \"Facility\": \"Building\",\n",
    "    \"Construction Site\": \"None\",\n",
    "    \"Vehicle Lot\": \"None\",\n",
    "    \"Helipad\": \"None\",\n",
    "    \"Storage Tank\": \"None\",\n",
    "    \"Shipping container lot\": \"None\",\n",
    "    \"Shipping Container\": \"None\",\n",
    "    \"Pylon\": \"None\",\n",
    "    \"Tower\": \"None\",\n",
    "    }\n",
    "\n",
    "    categories = []\n",
    "    class_ids = []\n",
    "    class_labels_path = \"../xview_to_coco/xview_class_labels.txt\"\n",
    "    with open(class_labels_path) as class_labels_file:\n",
    "        while True:\n",
    "            line = class_labels_file.readline()\n",
    "            if not line:\n",
    "                break\n",
    "            class_id, name = line.split(\":\")\n",
    "            if not int(class_id) in class_ids:\n",
    "                class_ids.append(int(class_id))\n",
    "            name = name.split('\\n')[0]\n",
    "            class_entry = {}\n",
    "            class_entry['supercategory'] = class_dict[name]\n",
    "            class_entry['id'] = int(class_id)\n",
    "            class_entry['name'] = name\n",
    "            categories.append(class_entry)\n",
    "    return categories, class_ids"
   ]
  },
  {
   "cell_type": "code",
   "execution_count": 5,
   "metadata": {},
   "outputs": [],
   "source": [
    "xview_json = '../datasets/Xview/vanilla/xView_train.geojson'\n",
    "source_imgs_dir = '../datasets/Xview/vanilla/train_images/'"
   ]
  },
  {
   "cell_type": "code",
   "execution_count": 6,
   "metadata": {},
   "outputs": [
    {
     "name": "stderr",
     "output_type": "stream",
     "text": [
      "100%|██████████| 601937/601937 [00:02<00:00, 234118.48it/s]"
     ]
    },
    {
     "name": "stdout",
     "output_type": "stream",
     "text": [
      "601937, 601937, 601937\n"
     ]
    },
    {
     "name": "stderr",
     "output_type": "stream",
     "text": [
      "\n"
     ]
    }
   ],
   "source": [
    "all_coords, all_imgs, all_classes = wv.get_labels(xview_json)\n",
    "print(F\"{len(all_coords)}, {len(all_imgs)}, {len(all_classes)}\")"
   ]
  },
  {
   "cell_type": "code",
   "execution_count": 7,
   "metadata": {},
   "outputs": [],
   "source": [
    "categories_json, class_ids = generate_categories()\n",
    "# print(categories_json)\n",
    "catLookup = {c[\"id\"]:c[\"name\"] for c in categories_json}\n",
    "# catLookup"
   ]
  },
  {
   "cell_type": "code",
   "execution_count": 23,
   "metadata": {},
   "outputs": [
    {
     "name": "stderr",
     "output_type": "stream",
     "text": [
      "100%|██████████| 601937/601937 [01:09<00:00, 8699.20it/s]\n"
     ]
    }
   ],
   "source": [
    "existing_imgs = set(os.listdir(source_imgs_dir))\n",
    "converted_images = set()\n",
    "ann_count = 0\n",
    "print_every = 10\n",
    "file_index = 0\n",
    "drop_counter = Counter()\n",
    "not_drops = []\n",
    "dcount = 0\n",
    "\n",
    "for image in tqdm(all_imgs):\n",
    "    if not image in existing_imgs:\n",
    "        continue\n",
    "    if image in converted_images: continue\n",
    "\n",
    "#     arr = wv.get_image(os.path.join(source_imgs_dir, image))\n",
    "    pil_img = Image.open(os.path.join(source_imgs_dir, image))\n",
    "    width, height = pil_img.size\n",
    "    coords = all_coords[all_imgs == image]\n",
    "    classes = all_classes[all_imgs == image]\n",
    "\n",
    "    for i in range(len(coords)):\n",
    "        drop_image = False\n",
    "        class_id = int(classes[i])\n",
    "        if not class_id in class_ids:\n",
    "            continue\n",
    "        box = coords[i]\n",
    "        x_min, y_min, x_max, y_max = box[0], box[1], box[2], box[3]\n",
    "        assert(x_max >= x_min and y_max >= y_min)\n",
    "        \n",
    "        # This case never happens:\n",
    "        assert(not (x_min == y_min == x_max == y_max))\n",
    "        if x_min == y_min == x_max == y_max == 0:\n",
    "            continue\n",
    "\n",
    "        x,y = int(x_min), int(y_min)\n",
    "        w,h = int(x_max - x_min), int(y_max - y_min)\n",
    "        \n",
    "        if x_min < 0 or x_min > width:\n",
    "            drop_image = True\n",
    "        if x_max < 0 or x_max > width:\n",
    "            drop_image = True\n",
    "        if y_min < 0 or y_min > height:\n",
    "            drop_image = True\n",
    "        if y_max < 0 or y_max > height:\n",
    "            drop_image = True\n",
    "        \n",
    "        if drop_image:\n",
    "            dcount += 1\n",
    "            # Clip any bbox coords that exceed image bounds:\n",
    "            x_min_cl, x_max_cl = min(max(x_min,0), width-1), min(max(x_max, 0), width-1)\n",
    "            y_min_cl, y_max_cl = min(max(y_min,0), width-1), min(max(y_max, 0), height-1)\n",
    "            # Calc. original bbox and clipped bbox areas:\n",
    "            original_area = np.abs(x_max-x_min)*np.abs(y_max-y_min)\n",
    "            clipped_area = np.abs(x_max_cl-x_min_cl)*np.abs(y_max_cl-y_min_cl)\n",
    "#             print(F\"i:{i}, img:{image}, cls:{classes[i]}:{catLookup[classes[i]]}, coords:{coords[i]}\")\n",
    "#             print(\"orig:\", x_min, x_max, y_min, y_max, original_area)\n",
    "#             print(\"new :\", x_min_cl, x_max_cl, y_min_cl, y_max_cl, clipped_area)\n",
    "#             print(F\"cliped/original area ratio: {clipped_area/original_area:.2f}\")\n",
    "            # If the truncated bbox area is less than 2/3 the full bbox area, drop it:\n",
    "            if clipped_area/original_area < 0.666666:\n",
    "                drop_counter[catLookup[int(classes[i])]] += 1\n",
    "            else:\n",
    "                not_drops.append({\n",
    "                    \"i\": i\n",
    "                    , \"img\": image\n",
    "                    , \"coords\": [x_min, x_max, y_min, y_max]\n",
    "                    , \"coords_clipped\": [x_min_cl, x_max_cl, y_min_cl, y_max_cl]\n",
    "                })\n",
    "            continue\n",
    "        ann_count += 1\n",
    "\n",
    "    file_index += 1\n",
    "    converted_images.add(image)\n"
   ]
  },
  {
   "cell_type": "code",
   "execution_count": 24,
   "metadata": {},
   "outputs": [
    {
     "name": "stdout",
     "output_type": "stream",
     "text": [
      "ann_count:  591810\n",
      "total dropped ann's:  5780\n",
      "dcount:  9917\n",
      "no_drops:  4137\n",
      "0\n"
     ]
    }
   ],
   "source": [
    "print(\"ann_count: \", ann_count)\n",
    "# These are the ones we drop, even with \n",
    "print(\"total dropped ann's: \", sum(drop_counter.values()))\n",
    "# print(drop_counter)\n",
    "print(\"dcount: \", dcount)\n",
    "# These are the ones we keep with the 2/3 area filter:\n",
    "print(\"no_drops: \", len(not_drops))\n",
    "print(dcount - (len(not_drops) + sum(drop_counter.values())))"
   ]
  },
  {
   "cell_type": "code",
   "execution_count": 25,
   "metadata": {},
   "outputs": [
    {
     "name": "stdout",
     "output_type": "stream",
     "text": [
      "[{'i': 0, 'img': '2355.tif', 'coords': [2712.0, 2746.0, 1145.0, 1177.0], 'coords_clipped': [2712.0, 2738, 1145.0, 1177.0]}, {'i': 2, 'img': '2355.tif', 'coords': [2687.0, 2740.0, 1338.0, 1399.0], 'coords_clipped': [2687.0, 2738, 1338.0, 1399.0]}, {'i': 6, 'img': '2355.tif', 'coords': [2709.0, 2747.0, 1014.0, 1072.0], 'coords_clipped': [2709.0, 2738, 1014.0, 1072.0]}, {'i': 9, 'img': '2355.tif', 'coords': [2704.0, 2749.0, 2123.0, 2151.0], 'coords_clipped': [2704.0, 2738, 2123.0, 2151.0]}, {'i': 12, 'img': '2355.tif', 'coords': [2703.0, 2745.0, 2007.0, 2040.0], 'coords_clipped': [2703.0, 2738, 2007.0, 2040.0]}]\n"
     ]
    }
   ],
   "source": [
    "print(not_drops[:5])"
   ]
  },
  {
   "cell_type": "code",
   "execution_count": null,
   "metadata": {},
   "outputs": [],
   "source": []
  }
 ],
 "metadata": {
  "kernelspec": {
   "display_name": "h4d_env",
   "language": "python",
   "name": "h4d_env"
  },
  "language_info": {
   "codemirror_mode": {
    "name": "ipython",
    "version": 3
   },
   "file_extension": ".py",
   "mimetype": "text/x-python",
   "name": "python",
   "nbconvert_exporter": "python",
   "pygments_lexer": "ipython3",
   "version": "3.7.3"
  }
 },
 "nbformat": 4,
 "nbformat_minor": 2
}
