{
 "cells": [
  {
   "cell_type": "code",
   "execution_count": null,
   "metadata": {},
   "outputs": [],
   "source": [
    "# add h4d proj root to sys.path so we can import stuff that's in h4d_main/h4d:\n",
    "# Example: suppose you want to import something from <h4d_main>/h4d/h4d/submodule/:\n",
    "# \"import h4d.submodule\" or \"from h4d.submodule import foo\"\n",
    "import sys, subprocess\n",
    "sys.path.append(subprocess.check_output(['git','rev-parse','--show-toplevel']).strip().decode(\"utf-8\") )\n"
   ]
  },
  {
   "cell_type": "code",
   "execution_count": null,
   "metadata": {},
   "outputs": [],
   "source": [
    "from typing import Dict, List, Tuple"
   ]
  },
  {
   "cell_type": "markdown",
   "metadata": {},
   "source": [
    "## Calculate Num default boxes at each detection layer:"
   ]
  },
  {
   "cell_type": "code",
   "execution_count": null,
   "metadata": {},
   "outputs": [],
   "source": [
    "# Feature maps and layers for SSD300:\n",
    "feature_maps = [38, 19, 10, 5, 3, 1]\n",
    "source_layers = {\n",
    "    \"conv4_3\": 38\n",
    "    , \"conv7\": 19\n",
    "    , \"conv8_2\": 10\n",
    "    , \"conv9_2\": 5\n",
    "    , \"conv10_2\": 3\n",
    "    , \"conv11_2\": 1\n",
    "}"
   ]
  },
  {
   "cell_type": "code",
   "execution_count": null,
   "metadata": {},
   "outputs": [],
   "source": [
    "def get_sizes_sq(layer_names):\n",
    "    return [source_layers[k]**2 for k in layer_names]\n",
    "\n",
    "def counts_dp(c: List[int], t: int, feature_sizes: List[int], memo: Dict[Tuple, bool], results, max_count):\n",
    "    \"\"\"Dynamic Programming solution to find all box counts that sum to total (t).\"\"\"\n",
    "    # base cases:\n",
    "    if t==0:\n",
    "        results.append(c)\n",
    "    if t<0:\n",
    "        return\n",
    "    for idx, f in enumerate(feature_sizes):\n",
    "        if c[idx] <= max_count:\n",
    "            c_new = c.copy()\n",
    "            c_new[idx] += 1\n",
    "            c_new_tuple = tuple(c_new)\n",
    "            if c_new_tuple not in memo:\n",
    "                memo[c_new_tuple] = True\n",
    "                counts_dp(c_new, t-f, feature_sizes, memo, results, max_count)\n",
    "                \n",
    "def get_box_counts(T: int, layers: List, min_count = 3, max_count=16) -> List[int]:\n",
    "    \"\"\"\n",
    "    Finds box counts for the give feature map sizes, such that box counts sum to t.\n",
    "    Created this to try to reproduce the box counts used to generate figures in \n",
    "    page 10 of SSD paper.\n",
    "    \"\"\"\n",
    "    feature_sizes = get_sizes_sq(layers)\n",
    "    c = [min_count] * len(feature_sizes)\n",
    "    t = T - (sum(min_count*feature_sizes))\n",
    "    memo = {}\n",
    "    results = []      \n",
    "    counts_dp(c, t, feature_sizes, memo, results, max_count)\n",
    "    check_results(results, feature_sizes, T)\n",
    "    return results\n",
    "\n",
    "def check_results(results, feature_sizes, expected_box_count):\n",
    "    for counts in results:\n",
    "        total = box_count(feature_sizes, counts)\n",
    "        if expected_box_count != total:\n",
    "            print(\"total boxes: \", total)\n",
    "\n",
    "def box_count(feature_sizes, counts):\n",
    "    total = 0\n",
    "    for i,c in enumerate(counts):\n",
    "        total += (c*feature_sizes[i])\n",
    "    return total"
   ]
  },
  {
   "cell_type": "code",
   "execution_count": null,
   "metadata": {},
   "outputs": [],
   "source": [
    "get_box_counts(8664, [\"conv7\"], min_count=1, max_count=25)"
   ]
  },
  {
   "cell_type": "code",
   "execution_count": null,
   "metadata": {},
   "outputs": [],
   "source": [
    "get_box_counts(9025, [\"conv4_3\", \"conv7\"])"
   ]
  },
  {
   "cell_type": "code",
   "execution_count": null,
   "metadata": {},
   "outputs": [],
   "source": [
    "get_box_counts(9864, [\"conv4_3\", \"conv7\", \"conv8_2\"], min_count=1, max_count=26)"
   ]
  },
  {
   "cell_type": "code",
   "execution_count": null,
   "metadata": {},
   "outputs": [],
   "source": [
    "get_box_counts(8942, [\"conv4_3\", \"conv7\", \"conv8_2\", \"conv9_2\"])"
   ]
  },
  {
   "cell_type": "code",
   "execution_count": null,
   "metadata": {},
   "outputs": [],
   "source": [
    "get_box_counts(8764, [\"conv4_3\", \"conv7\", \"conv8_2\", \"conv9_2\", \"conv10_2\"], min_count=2)"
   ]
  },
  {
   "cell_type": "code",
   "execution_count": null,
   "metadata": {},
   "outputs": [],
   "source": [
    "get_box_counts(8732, [\"conv4_3\", \"conv7\", \"conv8_2\", \"conv9_2\", \"conv10_2\", \"conv11_2\"], min_count=4, max_count=6)"
   ]
  },
  {
   "cell_type": "code",
   "execution_count": null,
   "metadata": {},
   "outputs": [],
   "source": [
    "box_count([38**2, 19**2], [6,6])"
   ]
  },
  {
   "cell_type": "markdown",
   "metadata": {},
   "source": [
    "## Aspect Ratio Notes:\n",
    "\n",
    "asdf"
   ]
  },
  {
   "cell_type": "code",
   "execution_count": null,
   "metadata": {},
   "outputs": [],
   "source": []
  }
 ],
 "metadata": {
  "kernelspec": {
   "display_name": "h4d_env",
   "language": "python",
   "name": "h4d_env"
  },
  "language_info": {
   "codemirror_mode": {
    "name": "ipython",
    "version": 3
   },
   "file_extension": ".py",
   "mimetype": "text/x-python",
   "name": "python",
   "nbconvert_exporter": "python",
   "pygments_lexer": "ipython3",
   "version": "3.7.3"
  }
 },
 "nbformat": 4,
 "nbformat_minor": 2
}
