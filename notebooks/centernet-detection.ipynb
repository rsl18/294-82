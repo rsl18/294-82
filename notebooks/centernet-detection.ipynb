{
 "cells": [
  {
   "cell_type": "code",
   "execution_count": null,
   "metadata": {},
   "outputs": [],
   "source": [
    "%matplotlib inline\n",
    "%load_ext autoreload\n",
    "%autoreload 2"
   ]
  },
  {
   "cell_type": "code",
   "execution_count": null,
   "metadata": {},
   "outputs": [],
   "source": [
    "import os, sys, subprocess\n",
    "from pathlib import Path\n",
    "_root_dir = Path(subprocess.check_output(['git','rev-parse','--show-toplevel']).strip().decode(\"utf-8\"))\n",
    "os.chdir(_root_dir)\n",
    "sys.path.append(str(_root_dir / \"centernet-master/src\"))\n",
    "import _init_paths"
   ]
  },
  {
   "cell_type": "markdown",
   "metadata": {},
   "source": [
    "## Imports"
   ]
  },
  {
   "cell_type": "code",
   "execution_count": null,
   "metadata": {},
   "outputs": [],
   "source": [
    "import os\n",
    "import cv2\n",
    "from opts import opts\n",
    "from detectors.detector_factory import detector_factory\n",
    "from lib.datasets.dataset_factory import get_dataset\n",
    "import numpy as np\n",
    "import matplotlib.pyplot as plt\n",
    "from pycocotools.coco import COCO\n",
    "from h4dlib.config import h4dconfig"
   ]
  },
  {
   "cell_type": "markdown",
   "metadata": {},
   "source": [
    "## Some helper functions:"
   ]
  },
  {
   "cell_type": "code",
   "execution_count": null,
   "metadata": {},
   "outputs": [],
   "source": [
    "def demo(opt):\n",
    "    image_ext = ['jpg', 'jpeg', 'png', 'webp']\n",
    "    video_ext = ['mp4', 'mov', 'avi', 'mkv']\n",
    "    time_stats = ['tot', 'load', 'pre', 'net', 'dec', 'post', 'merge']\n",
    "\n",
    "    os.environ[\"CUDA_VISIBLE_DEVICES\"] = opt.gpus_str\n",
    "    Detector = detector_factory[opt.task]\n",
    "    detector = Detector(opt)\n",
    "\n",
    "    if isinstance(opt.demo, list):\n",
    "        image_names = opt.demo\n",
    "    elif os.path.isdir(opt.demo):\n",
    "        image_names = []\n",
    "        ls = os.listdir(opt.demo)\n",
    "        for file_name in sorted(ls):\n",
    "            ext = file_name[file_name.rfind(\".\") + 1 :].lower()\n",
    "            if ext in image_ext:\n",
    "                image_names.append(os.path.join(opt.demo, file_name))\n",
    "    else:\n",
    "        image_names = [opt.demo]\n",
    "\n",
    "    for image_name in image_names:\n",
    "        print(\"Running detection on image: \", image_name)\n",
    "        ret = detector.run(image_name)\n",
    "        time_str = \"\"\n",
    "        for stat in time_stats:\n",
    "            time_str = time_str + \"{} {:.3f}s |\".format(stat, ret[stat])\n",
    "        print(time_str)\n",
    "\n",
    "def show_options(opt):\n",
    "    for k in dir(opt):\n",
    "        if not k.startswith(\"_\"):\n",
    "            print(\"    \", k, \"->\", getattr(opt, k))"
   ]
  },
  {
   "cell_type": "markdown",
   "metadata": {},
   "source": [
    "## Configure the folder and COCO API object for images on which to run detections:"
   ]
  },
  {
   "cell_type": "code",
   "execution_count": null,
   "metadata": {},
   "outputs": [],
   "source": [
    "# Split (\"train\" | \"val\"):\n",
    "split = \"val\"\n",
    "\n",
    "# Setup the path to the demo image(s):\n",
    "demo_image_path = h4dconfig.DATA_DIR / f\"Xview/coco_chipped/{split}/\"\n",
    "\n",
    "# num images to run detection on:\n",
    "num_demo_images = 10"
   ]
  },
  {
   "cell_type": "code",
   "execution_count": null,
   "metadata": {},
   "outputs": [],
   "source": [
    "# Load dataset as COCO so we can filter demo images to only ones that have annotations:\n",
    "dataDir = h4dconfig.DATA_DIR / 'Xview/coco_chipped'\n",
    "annFile = dataDir / f\"xview_coco_v2_{split}_chipped.json\"\n",
    "\n",
    "print(\"demo_image_path: \", demo_image_path)\n",
    "print(\"xviewcoco_dir: \", dataDir)\n",
    "print(\"annFile: \", annFile)\n",
    "\n",
    "coco = COCO(annFile)"
   ]
  },
  {
   "cell_type": "markdown",
   "metadata": {},
   "source": [
    "## Output some dataset stats:"
   ]
  },
  {
   "cell_type": "code",
   "execution_count": null,
   "metadata": {},
   "outputs": [],
   "source": [
    "imgs = coco.dataset[\"images\"]\n",
    "anns = coco.dataset[\"annotations\"]\n",
    "\n",
    "print(\"Total images: \", len(imgs))\n",
    "print(\"Total images with annotations: \", len(coco.imgToAnns.keys()))\n",
    "print(\"Total annotations: \", len(anns))\n",
    "print(\"Average annotations per image (ignoring images w/o any anns): \", np.average([len(anns) for image_id, anns in coco.imgToAnns.items()]))"
   ]
  },
  {
   "cell_type": "markdown",
   "metadata": {},
   "source": [
    "## Set up list of possible demo images from the specified folder:"
   ]
  },
  {
   "cell_type": "code",
   "execution_count": null,
   "metadata": {},
   "outputs": [],
   "source": [
    "all_images = list(demo_image_path.glob(\"*.jpg\"))\n",
    "\n",
    "# Filter to images that have annotations\n",
    "images_with_anns = {coco.imgs[img_id][\"file_name\"] for img_id in coco.imgToAnns.keys()}\n",
    "all_images_with_anns = [img for img in all_images if img.name in images_with_anns]\n",
    "print(f\"# images: {len(all_images)}, #images w/ anns: {len(all_images_with_anns)}\")\n",
    "\n",
    "# Choose here if you want to only use images that have anns:\n",
    "use_anns_only = True\n",
    "if use_anns_only:\n",
    "    all_images = all_images_with_anns"
   ]
  },
  {
   "cell_type": "markdown",
   "metadata": {},
   "source": [
    "## Configure Detection Options:"
   ]
  },
  {
   "cell_type": "code",
   "execution_count": null,
   "metadata": {},
   "outputs": [],
   "source": [
    "args = \"ctdet --exp_id xview_dla_512 --dataset xview\".split()\n",
    "opt = opts().h4d_init(args=args)\n",
    "opt.load_model = Path(\"./centernet-master/exp/ctdet/xview_dla_512/model_best.pth\").resolve()\n",
    "opt.debug = 3\n",
    "\n",
    "print(\"\\nOptions:\")\n",
    "show_options(opt)"
   ]
  },
  {
   "cell_type": "markdown",
   "metadata": {},
   "source": [
    "## Randomly select `num_demo_images` to run detections on:"
   ]
  },
  {
   "cell_type": "code",
   "execution_count": null,
   "metadata": {},
   "outputs": [],
   "source": [
    "# Pick `num_demo_images` random images to run detection on:\n",
    "demo_image_indexes = np.random.choice(len(all_images), size=num_demo_images, replace=False)\n",
    "demo_image_paths = [all_images[idx] for idx in demo_image_indexes]\n",
    "\n",
    "print(\"Num demo images: \", num_demo_images)\n",
    "print(\"Demo image paths: \")\n",
    "for img in demo_image_paths:\n",
    "    print(\"    \" , img)"
   ]
  },
  {
   "cell_type": "markdown",
   "metadata": {},
   "source": [
    "## Run Detection:"
   ]
  },
  {
   "cell_type": "code",
   "execution_count": null,
   "metadata": {},
   "outputs": [],
   "source": [
    "opt.demo = list(map(str, demo_image_paths))\n",
    "demo(opt)"
   ]
  },
  {
   "cell_type": "code",
   "execution_count": null,
   "metadata": {},
   "outputs": [],
   "source": [
    "coco.imgToAnns[1274]"
   ]
  },
  {
   "cell_type": "code",
   "execution_count": null,
   "metadata": {},
   "outputs": [],
   "source": []
  }
 ],
 "metadata": {
  "kernelspec": {
   "display_name": "h4d_env",
   "language": "python",
   "name": "h4d_env"
  },
  "language_info": {
   "codemirror_mode": {
    "name": "ipython",
    "version": 3
   },
   "file_extension": ".py",
   "mimetype": "text/x-python",
   "name": "python",
   "nbconvert_exporter": "python",
   "pygments_lexer": "ipython3",
   "version": "3.7.3"
  }
 },
 "nbformat": 4,
 "nbformat_minor": 4
}
