{
 "cells": [
  {
   "cell_type": "markdown",
   "metadata": {},
   "source": [
    "# Data"
   ]
  },
  {
   "cell_type": "markdown",
   "metadata": {},
   "source": [
    "Data is handled by `Dataset`s in `segmentron.data` that load (image, target) pairs.\n",
    "\n",
    "- `VOC` loads [PASCAL VOC](http://host.robots.ox.ac.uk/pascal/VOC/voc2012/) \n",
    "- `SBD` loads the [semantic boundary dataset](http://home.bharathh.info/pubs/codes/SBD/download.html) extension of PASCAL VOC\n",
    "\n",
    "This notebook illustrates common use cases."
   ]
  },
  {
   "cell_type": "code",
   "execution_count": null,
   "metadata": {},
   "outputs": [],
   "source": [
    "# work from the project root\n",
    "import os\n",
    "import sys\n",
    "import subprocess\n",
    "\n",
    "root_dir = subprocess.check_output(['git', 'rev-parse', '--show-toplevel']).strip()\n",
    "os.chdir(root_dir)\n",
    "sys.path.append(root_dir)"
   ]
  },
  {
   "cell_type": "code",
   "execution_count": null,
   "metadata": {},
   "outputs": [],
   "source": [
    "import matplotlib.pyplot as plt\n",
    "%matplotlib inline\n",
    "import numpy as np\n",
    "\n",
    "from segmentron.data import datasets"
   ]
  },
  {
   "cell_type": "markdown",
   "metadata": {},
   "source": [
    "A manifest of datasets is given by the `datasets`."
   ]
  },
  {
   "cell_type": "code",
   "execution_count": null,
   "metadata": {},
   "outputs": [],
   "source": [
    "datasets"
   ]
  },
  {
   "cell_type": "markdown",
   "metadata": {},
   "source": [
    "Instantiate dataset and load an (image, target) pair for display."
   ]
  },
  {
   "cell_type": "code",
   "execution_count": null,
   "metadata": {},
   "outputs": [],
   "source": [
    "voc = datasets['voc'](root_dir='data/voc2012', split='train')  # n.b. these are the defaults so `VOC()` would do \n",
    "\n",
    "im, target = voc[0]\n",
    "plt.figure()\n",
    "plt.imshow(im)\n",
    "plt.figure()\n",
    "plt.imshow(target)"
   ]
  },
  {
   "cell_type": "markdown",
   "metadata": {},
   "source": [
    "Now for a quick tour of the datasets:"
   ]
  },
  {
   "cell_type": "code",
   "execution_count": null,
   "metadata": {},
   "outputs": [],
   "source": [
    "for name, dataset_type in datasets.items():\n",
    "    ds = dataset_type()\n",
    "    idx = np.random.randint(len(ds))\n",
    "    im, target = ds[idx]\n",
    "    plt.figure()\n",
    "    plt.title(f\"{name} #{idx}\")\n",
    "    plt.imshow(im)\n",
    "    plt.figure()\n",
    "    plt.imshow(target)"
   ]
  }
 ],
 "metadata": {
  "kernelspec": {
   "display_name": "Python 3",
   "language": "python",
   "name": "python3"
  },
  "language_info": {
   "codemirror_mode": {
    "name": "ipython",
    "version": 3
   },
   "file_extension": ".py",
   "mimetype": "text/x-python",
   "name": "python",
   "nbconvert_exporter": "python",
   "pygments_lexer": "ipython3",
   "version": "3.7.3"
  }
 },
 "nbformat": 4,
 "nbformat_minor": 2
}
